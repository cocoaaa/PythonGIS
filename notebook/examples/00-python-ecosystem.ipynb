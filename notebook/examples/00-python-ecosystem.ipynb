{
 "cells": [
  {
   "cell_type": "markdown",
   "metadata": {},
   "source": [
    "# Overview of python GIS related libraries\n",
    "- [source blog](https://medium.com/@chrieke/essential-geospatial-python-libraries-5d82fcc38731)  \n",
    "- great workflow: [link](https://github.com/loicdtx/python-geospatial-ecosystem),[img](https://raw.githubusercontent.com/loicdtx/python-geospatial-ecosystem/master/overview.png)\n",
    "- awesome list [repo](https://github.com/sacridini/Awesome-Geospatial)\n",
    "\n",
    "\n",
    "Outline\n",
    "1. Shapely: (Vector files) 2D geometry objects and operations\n",
    "2. GeoPandas: pandas df + geom; crs conversion\n",
    "3. RasterIO: raster data IO, operations\n",
    "3. Visualization\n",
    "    - mapboxgl extension"
   ]
  },
  {
   "cell_type": "code",
   "execution_count": 1,
   "metadata": {},
   "outputs": [],
   "source": [
    "import numpy as np\n",
    "import geopandas as gpd"
   ]
  },
  {
   "cell_type": "markdown",
   "metadata": {},
   "source": [
    "---\n",
    "## [Shapely](https://shapely.readthedocs.io/en/stable/manual.html)\n",
    "**2D-Planar** geometry library that follows OpenGIS conventions \n",
    "\n",
    "- Creates geometry objects (eg. Point, LineString, Polygon) and manipulates  them (eg. intersects, union)\n",
    "- Caveats\n",
    "    1. Does *NOT* support coordinate system transformation and assumes the features exist in the same Cartesian (2D) plane \n",
    "    2. It's a planar geometry library: any z-coordinate will be ignored (though can be specified), and all operations will be performed on the x-y plane.\n",
    "    3. In all constructors, any numeric values are converted to type `float`\n"
   ]
  },
  {
   "cell_type": "code",
   "execution_count": 2,
   "metadata": {},
   "outputs": [],
   "source": [
    "from IPython.display import display\n",
    "from shapely.geometry import Point, MultiPoint, LineString,LinearRing, MultiLineString\n",
    "from shapely.geometry import Polygon"
   ]
  },
  {
   "cell_type": "markdown",
   "metadata": {},
   "source": [
    "1. Geometric Objects"
   ]
  },
  {
   "cell_type": "code",
   "execution_count": 3,
   "metadata": {},
   "outputs": [
    {
     "name": "stdout",
     "output_type": "stream",
     "text": [
      "0.0 0.0\n",
      "p1 bounds: (0.0, 10.0, 0.0, 10.0)\n",
      "p2 bounds: (0.0, 10.0, 0.0, 10.0)\n",
      "p1 == p2: False\n"
     ]
    }
   ],
   "source": [
    "# Point\n",
    "p1 = Point(0, 10) # x,y\n",
    "print(p1.area, p1.length)\n",
    "print(f'p1 bounds: {p1.bounds}')\n",
    "\n",
    "p2 = Point(p1) # makes a new object using another Point instance\n",
    "print(f'p2 bounds: {p2.bounds}')\n",
    "\n",
    "print(f'p1 == p2: {id(p1)==id(p2)}')"
   ]
  },
  {
   "cell_type": "code",
   "execution_count": 4,
   "metadata": {},
   "outputs": [
    {
     "name": "stdout",
     "output_type": "stream",
     "text": [
      "points: \n",
      "[[0. 0.]\n",
      " [1. 1.]\n",
      " [2. 2.]\n",
      " [3. 3.]\n",
      " [4. 4.]\n",
      " [5. 5.]\n",
      " [6. 6.]\n",
      " [7. 7.]\n",
      " [8. 8.]\n",
      " [9. 9.]]\n"
     ]
    }
   ],
   "source": [
    "# MultiPoint\n",
    "points = np.zeros((10,2))\n",
    "for i in range(len(points)):\n",
    "    points[i] = (i,i)\n",
    "print(f'points: \\n{points}')"
   ]
  },
  {
   "cell_type": "code",
   "execution_count": 5,
   "metadata": {},
   "outputs": [
    {
     "data": {
      "image/svg+xml": [
       "<svg xmlns=\"http://www.w3.org/2000/svg\" xmlns:xlink=\"http://www.w3.org/1999/xlink\" width=\"100.0\" height=\"100.0\" viewBox=\"-0.36 -0.36 9.719999999999999 9.719999999999999\" preserveAspectRatio=\"xMinYMin meet\"><g transform=\"matrix(1,0,0,-1,0,9.0)\"><g><circle cx=\"0.0\" cy=\"0.0\" r=\"0.29159999999999997\" stroke=\"#555555\" stroke-width=\"0.0972\" fill=\"#66cc99\" opacity=\"0.6\" /><circle cx=\"1.0\" cy=\"1.0\" r=\"0.29159999999999997\" stroke=\"#555555\" stroke-width=\"0.0972\" fill=\"#66cc99\" opacity=\"0.6\" /><circle cx=\"2.0\" cy=\"2.0\" r=\"0.29159999999999997\" stroke=\"#555555\" stroke-width=\"0.0972\" fill=\"#66cc99\" opacity=\"0.6\" /><circle cx=\"3.0\" cy=\"3.0\" r=\"0.29159999999999997\" stroke=\"#555555\" stroke-width=\"0.0972\" fill=\"#66cc99\" opacity=\"0.6\" /><circle cx=\"4.0\" cy=\"4.0\" r=\"0.29159999999999997\" stroke=\"#555555\" stroke-width=\"0.0972\" fill=\"#66cc99\" opacity=\"0.6\" /><circle cx=\"5.0\" cy=\"5.0\" r=\"0.29159999999999997\" stroke=\"#555555\" stroke-width=\"0.0972\" fill=\"#66cc99\" opacity=\"0.6\" /><circle cx=\"6.0\" cy=\"6.0\" r=\"0.29159999999999997\" stroke=\"#555555\" stroke-width=\"0.0972\" fill=\"#66cc99\" opacity=\"0.6\" /><circle cx=\"7.0\" cy=\"7.0\" r=\"0.29159999999999997\" stroke=\"#555555\" stroke-width=\"0.0972\" fill=\"#66cc99\" opacity=\"0.6\" /><circle cx=\"8.0\" cy=\"8.0\" r=\"0.29159999999999997\" stroke=\"#555555\" stroke-width=\"0.0972\" fill=\"#66cc99\" opacity=\"0.6\" /><circle cx=\"9.0\" cy=\"9.0\" r=\"0.29159999999999997\" stroke=\"#555555\" stroke-width=\"0.0972\" fill=\"#66cc99\" opacity=\"0.6\" /></g></g></svg>"
      ],
      "text/plain": [
       "<shapely.geometry.multipoint.MultiPoint at 0x11b4ce7f0>"
      ]
     },
     "metadata": {},
     "output_type": "display_data"
    }
   ],
   "source": [
    "points = MultiPoint(points)\n",
    "display(points)"
   ]
  },
  {
   "cell_type": "code",
   "execution_count": 6,
   "metadata": {},
   "outputs": [],
   "source": [
    "# LineString\n",
    "# In shapely, `LineString` represents a line, ie. a curve"
   ]
  },
  {
   "cell_type": "code",
   "execution_count": 7,
   "metadata": {},
   "outputs": [
    {
     "data": {
      "image/svg+xml": [
       "<svg xmlns=\"http://www.w3.org/2000/svg\" xmlns:xlink=\"http://www.w3.org/1999/xlink\" width=\"100.0\" height=\"100.0\" viewBox=\"-0.8 -0.8 11.600000000000001 21.6\" preserveAspectRatio=\"xMinYMin meet\"><g transform=\"matrix(1,0,0,-1,0,20.0)\"><polyline fill=\"none\" stroke=\"#66cc99\" stroke-width=\"0.43200000000000005\" points=\"0.0,0.0 10.0,20.0\" opacity=\"0.8\" /></g></svg>"
      ],
      "text/plain": [
       "<shapely.geometry.linestring.LineString at 0x11b568278>"
      ]
     },
     "metadata": {},
     "output_type": "display_data"
    }
   ],
   "source": [
    "# Create a line with start and end points\n",
    "start = (0,0)\n",
    "end = (10,20)\n",
    "line = LineString([start, end])\n",
    "display(line)"
   ]
  },
  {
   "cell_type": "code",
   "execution_count": 8,
   "metadata": {},
   "outputs": [
    {
     "data": {
      "image/svg+xml": [
       "<svg xmlns=\"http://www.w3.org/2000/svg\" xmlns:xlink=\"http://www.w3.org/1999/xlink\" width=\"100.0\" height=\"100.0\" viewBox=\"-0.08 -0.08 2.16 1.1600000000000001\" preserveAspectRatio=\"xMinYMin meet\"><g transform=\"matrix(1,0,0,-1,0,1.0)\"><polyline fill=\"none\" stroke=\"#66cc99\" stroke-width=\"0.0432\" points=\"0.0,0.0 1.0,1.0 2.0,0.0\" opacity=\"0.8\" /></g></svg>"
      ],
      "text/plain": [
       "<shapely.geometry.linestring.LineString at 0x11b5682b0>"
      ]
     },
     "metadata": {},
     "output_type": "display_data"
    }
   ],
   "source": [
    "# Create a line (ie.curve) with two line segments\n",
    "line2 = LineString([(0,0), (1,1), (2,0)])\n",
    "display(line2)\n",
    "                    "
   ]
  },
  {
   "cell_type": "code",
   "execution_count": 9,
   "metadata": {},
   "outputs": [],
   "source": [
    "# Draw a curve"
   ]
  },
  {
   "cell_type": "code",
   "execution_count": 10,
   "metadata": {},
   "outputs": [
    {
     "data": {
      "image/svg+xml": [
       "<svg xmlns=\"http://www.w3.org/2000/svg\" xmlns:xlink=\"http://www.w3.org/1999/xlink\" width=\"100.0\" height=\"100.0\" viewBox=\"-0.08 -1.08 2.16 2.16\" preserveAspectRatio=\"xMinYMin meet\"><g transform=\"matrix(1,0,0,-1,0,0.0)\"><polyline fill=\"none\" stroke=\"#66cc99\" stroke-width=\"0.0432\" points=\"0.0,0.0 1.0,1.0 2.0,0.0 2.0,-1.0 0.0,-1.0 0.0,0.0\" opacity=\"0.8\" /></g></svg>"
      ],
      "text/plain": [
       "<shapely.geometry.linestring.LineString at 0x11b568978>"
      ]
     },
     "metadata": {},
     "output_type": "display_data"
    }
   ],
   "source": [
    "points = [(0,0), (1,1), (2,0), (2,-1), (0,-1), (0,0)]\n",
    "line3 = LineString(points)\n",
    "display(line3)"
   ]
  },
  {
   "cell_type": "code",
   "execution_count": 11,
   "metadata": {},
   "outputs": [
    {
     "name": "stdout",
     "output_type": "stream",
     "text": [
      "line is closed?: True\n",
      "Centroid: POINT (1 -0.2322330470336312)\n",
      "area: 0.0, boundary: MULTIPOINT EMPTY\n",
      "length:  6.82842712474619\n",
      "bounds (xmin, ymin, xmax, ymax): (0.0, -1.0, 2.0, 1.0)\n"
     ]
    }
   ],
   "source": [
    "# Geometric operations/queries\n",
    "print(f'line is closed?: {line3.is_closed}')\n",
    "print(f'Centroid: {line3.centroid}')\n",
    "print(f'area: {line3.area}, boundary: {line3.boundary}') # any line has area of zero\n",
    "print(f'length:  {line3.length}')\n",
    "print(f'bounds (xmin, ymin, xmax, ymax): {line3.bounds}')"
   ]
  },
  {
   "cell_type": "code",
   "execution_count": 12,
   "metadata": {},
   "outputs": [
    {
     "data": {
      "image/svg+xml": [
       "<svg xmlns=\"http://www.w3.org/2000/svg\" xmlns:xlink=\"http://www.w3.org/1999/xlink\" width=\"100.0\" height=\"100.0\" viewBox=\"-0.2 -0.2 5.4 2.9000000000000004\" preserveAspectRatio=\"xMinYMin meet\"><g transform=\"matrix(1,0,0,-1,0,2.5)\"><polyline fill=\"none\" stroke=\"#66cc99\" stroke-width=\"0.10800000000000001\" points=\"0.0,0.0 2.5,2.5 5.0,0.0\" opacity=\"0.8\" /></g></svg>"
      ],
      "text/plain": [
       "<shapely.geometry.linestring.LineString at 0x11b568940>"
      ]
     },
     "metadata": {},
     "output_type": "display_data"
    }
   ],
   "source": [
    "# Another way to construct a LineString object is to use \n",
    "# a mixture of float tuples (for x,y coordinates) and Point objects\n",
    "line4 = LineString([(0,0), (2.5,2.5), Point(5,0)])\n",
    "display(line4)"
   ]
  },
  {
   "cell_type": "code",
   "execution_count": 13,
   "metadata": {},
   "outputs": [
    {
     "data": {
      "image/svg+xml": [
       "<svg xmlns=\"http://www.w3.org/2000/svg\" xmlns:xlink=\"http://www.w3.org/1999/xlink\" width=\"100.0\" height=\"100.0\" viewBox=\"-0.2 -0.2 5.4 2.9000000000000004\" preserveAspectRatio=\"xMinYMin meet\"><g transform=\"matrix(1,0,0,-1,0,2.5)\"><polyline fill=\"none\" stroke=\"#66cc99\" stroke-width=\"0.10800000000000001\" points=\"0.0,0.0 2.5,2.5 5.0,0.0\" opacity=\"0.8\" /></g></svg>"
      ],
      "text/plain": [
       "<shapely.geometry.linestring.LineString at 0x11b5687b8>"
      ]
     },
     "metadata": {},
     "output_type": "display_data"
    }
   ],
   "source": [
    "# Copy constructor\n",
    "line5 = LineString(line4)\n",
    "display(line5)"
   ]
  },
  {
   "cell_type": "code",
   "execution_count": 14,
   "metadata": {},
   "outputs": [
    {
     "data": {
      "image/svg+xml": [
       "<svg xmlns=\"http://www.w3.org/2000/svg\" xmlns:xlink=\"http://www.w3.org/1999/xlink\" width=\"100.0\" height=\"100.0\" viewBox=\"-0.08 -1.08 1.1600000000000001 2.16\" preserveAspectRatio=\"xMinYMin meet\"><g transform=\"matrix(1,0,0,-1,0,0.0)\"><path fill-rule=\"evenodd\" fill=\"#66cc99\" stroke=\"#555555\" stroke-width=\"0.0432\" opacity=\"0.6\" d=\"M 0.0,0.0 L 0.0,1.0 L 1.0,1.0 L 1.0,0.0 L 0.5,-1.0 L 0.0,0.0 z\" /></g></svg>"
      ],
      "text/plain": [
       "<shapely.geometry.polygon.Polygon at 0x11b575390>"
      ]
     },
     "metadata": {},
     "output_type": "display_data"
    },
    {
     "name": "stdout",
     "output_type": "stream",
     "text": [
      "area: 1.5\n",
      "perimeter: 5.236\n"
     ]
    }
   ],
   "source": [
    "# Polygons\n",
    "# Use order sequence (tuple) of point cooridinates\n",
    "coords = ((0,0), (0,1), (1,1), (1,0), (0.5,-1) )\n",
    "poly = Polygon(coords)\n",
    "display(poly)\n",
    "print(f'area: {poly.area}')\n",
    "print(f'perimeter: {poly.length:.3f}')"
   ]
  },
  {
   "cell_type": "code",
   "execution_count": 15,
   "metadata": {},
   "outputs": [
    {
     "data": {
      "image/svg+xml": [
       "<svg xmlns=\"http://www.w3.org/2000/svg\" xmlns:xlink=\"http://www.w3.org/1999/xlink\" width=\"100.0\" height=\"100.0\" viewBox=\"-0.08 -1.08 1.1600000000000001 2.16\" preserveAspectRatio=\"xMinYMin meet\"><g transform=\"matrix(1,0,0,-1,0,0.0)\"><polyline fill=\"none\" stroke=\"#66cc99\" stroke-width=\"0.0432\" points=\"0.0,0.0 0.0,1.0 1.0,1.0 1.0,0.0 0.5,-1.0 0.0,0.0\" opacity=\"0.8\" /></g></svg>"
      ],
      "text/plain": [
       "<shapely.geometry.linestring.LineString at 0x11b5680f0>"
      ]
     },
     "metadata": {},
     "output_type": "display_data"
    },
    {
     "name": "stdout",
     "output_type": "stream",
     "text": [
      "outline perimeter: 5.236\n",
      "outline bound points: (0.0, -1.0, 1.0, 1.0), which corresponds to (xmin, ymin, xmax, ymax)\n"
     ]
    }
   ],
   "source": [
    "outline = poly.boundary\n",
    "display(outline) # one-dimension lower geometry object. If Polygon, then its boundary is a line\n",
    "print(f'outline perimeter: {outline.length:.3f}')\n",
    "print(f'outline bound points: {outline.bounds}, which corresponds to (xmin, ymin, xmax, ymax)')"
   ]
  },
  {
   "cell_type": "markdown",
   "metadata": {},
   "source": [
    "A polygon can be more complex, and can have some interiors (holes).\n"
   ]
  },
  {
   "cell_type": "code",
   "execution_count": 16,
   "metadata": {},
   "outputs": [],
   "source": [
    "# Polygon with interiors"
   ]
  },
  {
   "cell_type": "markdown",
   "metadata": {},
   "source": [
    "Use the (optional) second argument to the constructor to specify the interior (hole) geometry.\n",
    "\n",
    "The constructor format is: \n",
    "```python\n",
    "Polygon (boundary_coords, [hole_geom1, hole_geom2, ...])\n",
    "```\n",
    "     \n",
    "Note that the first argument defines a (single) boundary of the polygon,\n",
    "while the second argument (which is a list of geometry instances) defines any\n",
    "number of holes of the polygon.\n",
    "So, if you want to get the coordinates of the boundary for this polygon, use `exterior` property\n",
    "And, to access the list of interior geometries, use `interiors` property -- notice this is a plural."
   ]
  },
  {
   "cell_type": "code",
   "execution_count": 17,
   "metadata": {},
   "outputs": [
    {
     "data": {
      "image/svg+xml": [
       "<svg xmlns=\"http://www.w3.org/2000/svg\" xmlns:xlink=\"http://www.w3.org/1999/xlink\" width=\"100.0\" height=\"100.0\" viewBox=\"-0.08 -1.08 1.1600000000000001 2.16\" preserveAspectRatio=\"xMinYMin meet\"><g transform=\"matrix(1,0,0,-1,0,0.0)\"><path fill-rule=\"evenodd\" fill=\"#66cc99\" stroke=\"#555555\" stroke-width=\"0.0432\" opacity=\"0.6\" d=\"M 0.0,0.0 L 0.0,1.0 L 1.0,1.0 L 1.0,0.0 L 0.5,-1.0 L 0.0,0.0 z M 0.3,0.0 L 0.7,0.0 L 0.5,-0.5 L 0.3,0.0 z\" /></g></svg>"
      ],
      "text/plain": [
       "<shapely.geometry.polygon.Polygon at 0x11b5752e8>"
      ]
     },
     "metadata": {},
     "output_type": "display_data"
    }
   ],
   "source": [
    "coords_out = ( (0,0), (0,1), (1,1), (1,0), (0.5,-1) )\n",
    "coords_in = ( (0.3,0), (0.7,0), (0.5,-0.5) )\n",
    "hole = LinearRing(coords_in)\n",
    "\n",
    "poly2 = Polygon(coords_out, [hole])\n",
    "display(poly2)"
   ]
  },
  {
   "cell_type": "code",
   "execution_count": 18,
   "metadata": {},
   "outputs": [
    {
     "name": "stdout",
     "output_type": "stream",
     "text": [
      "Type of Polygon instance's exterior properties:  <class 'shapely.geometry.polygon.LinearRing'>\n",
      "\t interior property's type:  <class 'shapely.geometry.polygon.InteriorRingSequence'>\n"
     ]
    }
   ],
   "source": [
    "## Component rings can be accessed via `exterior` and `interior` properties\n",
    "print(\"Type of Polygon instance's exterior properties: \", type(poly2.exterior))\n",
    "print(\"\\t interior property's type: \", type(poly2.interiors))"
   ]
  },
  {
   "cell_type": "code",
   "execution_count": 19,
   "metadata": {},
   "outputs": [
    {
     "data": {
      "image/svg+xml": [
       "<svg xmlns=\"http://www.w3.org/2000/svg\" xmlns:xlink=\"http://www.w3.org/1999/xlink\" width=\"100.0\" height=\"100.0\" viewBox=\"-0.13399768328618572 -1.133939765440828 1.2679953665723716 2.2679374487270136\" preserveAspectRatio=\"xMinYMin meet\"><g transform=\"matrix(1,0,0,-1,0,5.791784535769118e-05)\"><path fill-rule=\"evenodd\" fill=\"#66cc99\" stroke=\"#555555\" stroke-width=\"0.04535874897454027\" opacity=\"0.6\" d=\"M -0.044721359549995794,-0.022360679774997897 L -0.04659974791155542,-0.018123561862379216 L -0.048077723073383205,-0.013730715352051984 L -0.049142585379575686,-0.009219886236343402 L -0.04978518488957726,-0.0046298342854369885 L -0.05,0.0 L -0.05,1.0 L -0.049759236333609846,1.0049008570164781 L -0.049039264020161524,1.0097545161008064 L -0.04784701678661044,1.014514233862723 L -0.04619397662556434,1.0191341716182545 L -0.04409606321741775,1.0235698368413 L -0.04157348061512727,1.02777851165098 L -0.03865052266813685,1.0317196642081823 L -0.035355339059327376,1.0353553390593273 L -0.031719664208182265,1.0386505226681368 L -0.0277785116509801,1.0415734806151273 L -0.023569836841299888,1.0440960632174177 L -0.019134171618254488,1.0461939766255643 L -0.014514233862723111,1.0478470167866105 L -0.009754516100806401,1.0490392640201616 L -0.0049008570164780114,1.04975923633361 L 0.0,1.05 L 1.0,1.05 L 1.0049008570164781,1.04975923633361 L 1.0097545161008064,1.0490392640201616 L 1.014514233862723,1.0478470167866105 L 1.0191341716182545,1.0461939766255643 L 1.0235698368413,1.0440960632174177 L 1.02777851165098,1.0415734806151273 L 1.0317196642081823,1.0386505226681368 L 1.0353553390593273,1.0353553390593273 L 1.0386505226681368,1.0317196642081823 L 1.0415734806151273,1.02777851165098 L 1.0440960632174177,1.0235698368413 L 1.0461939766255643,1.0191341716182545 L 1.0478470167866105,1.014514233862723 L 1.0490392640201616,1.0097545161008064 L 1.04975923633361,1.004900857016478 L 1.05,1.0 L 1.05,0.0 L 1.0497851848895772,-0.004629834285437066 L 1.0491425853795757,-0.009219886236343523 L 1.048077723073383,-0.01373071535205217 L 1.0465997479115554,-0.018123561862379445 L 1.0447213595499958,-0.022360679774997897 L 0.5447213595499958,-1.022360679774998 L 0.5423648427014531,-1.0265559805482896 L 0.5396159643666124,-1.0305053334238998 L 0.5365001832494446,-1.0341721615171906 L 0.533046356119671,-1.0375225045434322 L 0.5292864705561336,-1.040525333340575 L 0.5252553486942155,-1.043152837245465 L 0.5209903247210474,-1.045380681661969 L 0.5165308991053792,-1.047188233435548 L 0.5119183727644577,-1.0485587519469708 L 0.5071954645560744,-1.0494795441553606 L 0.5024059156383718,-1.0499420821546424 L 0.4975940843616283,-1.0499420821546424 L 0.4928045354439256,-1.0494795441553606 L 0.4880816272355422,-1.0485587519469708 L 0.48346910089462075,-1.047188233435548 L 0.4790096752789525,-1.045380681661969 L 0.4747446513057845,-1.043152837245465 L 0.47071352944386635,-1.040525333340575 L 0.46695364388032906,-1.0375225045434322 L 0.46349981675055535,-1.0341721615171906 L 0.46038403563338753,-1.0305053334238996 L 0.45763515729854687,-1.0265559805482896 L 0.4552786404500042,-1.022360679774998 L -0.044721359549995794,-0.022360679774997897 z M 0.373851648071345,-0.05 L 0.49999999999999994,-0.3653708798216374 L 0.6261483519286549,-0.05 L 0.373851648071345,-0.05 z\" /></g></svg>"
      ],
      "text/plain": [
       "<shapely.geometry.polygon.Polygon at 0x11b568c18>"
      ]
     },
     "metadata": {},
     "output_type": "display_data"
    },
    {
     "name": "stdout",
     "output_type": "stream",
     "text": [
      "type of buffered polygon:  <class 'shapely.geometry.polygon.Polygon'>\n"
     ]
    }
   ],
   "source": [
    "## Another example of a polygon with holes\n",
    "poly3 = poly2.buffer(0.05)\n",
    "display(poly3)\n",
    "print('type of buffered polygon: ', type(poly3))"
   ]
  },
  {
   "cell_type": "code",
   "execution_count": 20,
   "metadata": {},
   "outputs": [
    {
     "data": {
      "text/plain": [
       "\u001b[0;31mType:\u001b[0m        property\n",
       "\u001b[0;31mString form:\u001b[0m <property object at 0x11676d3b8>\n",
       "\u001b[0;31mSource:\u001b[0m     \n",
       "\u001b[0;31m# poly3.exterior.fget\u001b[0m\u001b[0;34m\u001b[0m\n",
       "\u001b[0;34m\u001b[0m\u001b[0;34m@\u001b[0m\u001b[0mproperty\u001b[0m\u001b[0;34m\u001b[0m\n",
       "\u001b[0;34m\u001b[0m\u001b[0;32mdef\u001b[0m \u001b[0mexterior\u001b[0m\u001b[0;34m(\u001b[0m\u001b[0mself\u001b[0m\u001b[0;34m)\u001b[0m\u001b[0;34m:\u001b[0m\u001b[0;34m\u001b[0m\n",
       "\u001b[0;34m\u001b[0m    \u001b[0;32mif\u001b[0m \u001b[0mself\u001b[0m\u001b[0;34m.\u001b[0m\u001b[0mis_empty\u001b[0m\u001b[0;34m:\u001b[0m\u001b[0;34m\u001b[0m\n",
       "\u001b[0;34m\u001b[0m        \u001b[0;32mreturn\u001b[0m \u001b[0;32mNone\u001b[0m\u001b[0;34m\u001b[0m\n",
       "\u001b[0;34m\u001b[0m    \u001b[0;32melif\u001b[0m \u001b[0mself\u001b[0m\u001b[0;34m.\u001b[0m\u001b[0m_exterior\u001b[0m \u001b[0;32mis\u001b[0m \u001b[0;32mNone\u001b[0m \u001b[0;32mor\u001b[0m \u001b[0mself\u001b[0m\u001b[0;34m.\u001b[0m\u001b[0m_exterior\u001b[0m\u001b[0;34m(\u001b[0m\u001b[0;34m)\u001b[0m \u001b[0;32mis\u001b[0m \u001b[0;32mNone\u001b[0m\u001b[0;34m:\u001b[0m\u001b[0;34m\u001b[0m\n",
       "\u001b[0;34m\u001b[0m        \u001b[0mg\u001b[0m \u001b[0;34m=\u001b[0m \u001b[0mlgeos\u001b[0m\u001b[0;34m.\u001b[0m\u001b[0mGEOSGetExteriorRing\u001b[0m\u001b[0;34m(\u001b[0m\u001b[0mself\u001b[0m\u001b[0;34m.\u001b[0m\u001b[0m_geom\u001b[0m\u001b[0;34m)\u001b[0m\u001b[0;34m\u001b[0m\n",
       "\u001b[0;34m\u001b[0m        \u001b[0mring\u001b[0m \u001b[0;34m=\u001b[0m \u001b[0mLinearRing\u001b[0m\u001b[0;34m(\u001b[0m\u001b[0;34m)\u001b[0m\u001b[0;34m\u001b[0m\n",
       "\u001b[0;34m\u001b[0m        \u001b[0mring\u001b[0m\u001b[0;34m.\u001b[0m\u001b[0m_geom\u001b[0m \u001b[0;34m=\u001b[0m \u001b[0mg\u001b[0m\u001b[0;34m\u001b[0m\n",
       "\u001b[0;34m\u001b[0m        \u001b[0mring\u001b[0m\u001b[0;34m.\u001b[0m\u001b[0m__p__\u001b[0m \u001b[0;34m=\u001b[0m \u001b[0mself\u001b[0m\u001b[0;34m\u001b[0m\n",
       "\u001b[0;34m\u001b[0m        \u001b[0mring\u001b[0m\u001b[0;34m.\u001b[0m\u001b[0m_other_owned\u001b[0m \u001b[0;34m=\u001b[0m \u001b[0;32mTrue\u001b[0m\u001b[0;34m\u001b[0m\n",
       "\u001b[0;34m\u001b[0m        \u001b[0mring\u001b[0m\u001b[0;34m.\u001b[0m\u001b[0m_ndim\u001b[0m \u001b[0;34m=\u001b[0m \u001b[0mself\u001b[0m\u001b[0;34m.\u001b[0m\u001b[0m_ndim\u001b[0m\u001b[0;34m\u001b[0m\n",
       "\u001b[0;34m\u001b[0m        \u001b[0mself\u001b[0m\u001b[0;34m.\u001b[0m\u001b[0m_exterior\u001b[0m \u001b[0;34m=\u001b[0m \u001b[0mweakref\u001b[0m\u001b[0;34m.\u001b[0m\u001b[0mref\u001b[0m\u001b[0;34m(\u001b[0m\u001b[0mring\u001b[0m\u001b[0;34m)\u001b[0m\u001b[0;34m\u001b[0m\n",
       "\u001b[0;34m\u001b[0m    \u001b[0;32mreturn\u001b[0m \u001b[0mself\u001b[0m\u001b[0;34m.\u001b[0m\u001b[0m_exterior\u001b[0m\u001b[0;34m(\u001b[0m\u001b[0;34m)\u001b[0m\u001b[0;34m\u001b[0m\u001b[0;34m\u001b[0m\u001b[0m\n"
      ]
     },
     "metadata": {},
     "output_type": "display_data"
    }
   ],
   "source": [
    "poly3.exterior??"
   ]
  },
  {
   "cell_type": "code",
   "execution_count": 21,
   "metadata": {},
   "outputs": [
    {
     "name": "stdout",
     "output_type": "stream",
     "text": [
      "LINEARRING (-0.04472135954999579 -0.0223606797749979, -0.04659974791155542 -0.01812356186237922, -0.04807772307338321 -0.01373071535205198, -0.04914258537957569 -0.009219886236343402, -0.04978518488957726 -0.004629834285436988, -0.05 0, -0.05 1, -0.04975923633360985 1.004900857016478, -0.04903926402016152 1.009754516100806, -0.04784701678661044 1.014514233862723, -0.04619397662556434 1.019134171618254, -0.04409606321741775 1.0235698368413, -0.04157348061512727 1.02777851165098, -0.03865052266813685 1.031719664208182, -0.03535533905932738 1.035355339059327, -0.03171966420818226 1.038650522668137, -0.0277785116509801 1.041573480615127, -0.02356983684129989 1.044096063217418, -0.01913417161825449 1.046193976625564, -0.01451423386272311 1.047847016786611, -0.009754516100806401 1.049039264020162, -0.004900857016478011 1.04975923633361, 0 1.05, 1 1.05, 1.004900857016478 1.04975923633361, 1.009754516100806 1.049039264020162, 1.014514233862723 1.047847016786611, 1.019134171618254 1.046193976625564, 1.0235698368413 1.044096063217418, 1.02777851165098 1.041573480615127, 1.031719664208182 1.038650522668137, 1.035355339059327 1.035355339059327, 1.038650522668137 1.031719664208182, 1.041573480615127 1.02777851165098, 1.044096063217418 1.0235698368413, 1.046193976625564 1.019134171618254, 1.047847016786611 1.014514233862723, 1.049039264020162 1.009754516100806, 1.04975923633361 1.004900857016478, 1.05 1, 1.05 0, 1.049785184889577 -0.004629834285437066, 1.049142585379576 -0.009219886236343523, 1.048077723073383 -0.01373071535205217, 1.046599747911555 -0.01812356186237945, 1.044721359549996 -0.0223606797749979, 0.5447213595499958 -1.022360679774998, 0.5423648427014531 -1.02655598054829, 0.5396159643666124 -1.0305053334239, 0.5365001832494446 -1.034172161517191, 0.533046356119671 -1.037522504543432, 0.5292864705561336 -1.040525333340575, 0.5252553486942155 -1.043152837245465, 0.5209903247210474 -1.045380681661969, 0.5165308991053792 -1.047188233435548, 0.5119183727644577 -1.048558751946971, 0.5071954645560744 -1.049479544155361, 0.5024059156383718 -1.049942082154642, 0.4975940843616283 -1.049942082154642, 0.4928045354439256 -1.049479544155361, 0.4880816272355422 -1.048558751946971, 0.4834691008946208 -1.047188233435548, 0.4790096752789525 -1.045380681661969, 0.4747446513057845 -1.043152837245465, 0.4707135294438664 -1.040525333340575, 0.4669536438803291 -1.037522504543432, 0.4634998167505553 -1.034172161517191, 0.4603840356333875 -1.0305053334239, 0.4576351572985469 -1.02655598054829, 0.4552786404500042 -1.022360679774998, -0.04472135954999579 -0.0223606797749979)\n"
     ]
    }
   ],
   "source": [
    "print(poly3.exterior)"
   ]
  },
  {
   "cell_type": "code",
   "execution_count": 22,
   "metadata": {},
   "outputs": [
    {
     "ename": "TypeError",
     "evalue": "can only concatenate tuple (not \"int\") to tuple",
     "output_type": "error",
     "traceback": [
      "\u001b[0;31m-----------------------------------------------------------\u001b[0m",
      "\u001b[0;31mTypeError\u001b[0m                 Traceback (most recent call last)",
      "\u001b[0;32m<ipython-input-22-9be9d52386c2>\u001b[0m in \u001b[0;36m<module>\u001b[0;34m\u001b[0m\n\u001b[0;32m----> 1\u001b[0;31m \u001b[0;34m(\u001b[0m\u001b[0;36m1\u001b[0m\u001b[0;34m,\u001b[0m\u001b[0;36m2\u001b[0m\u001b[0;34m)\u001b[0m \u001b[0;34m+\u001b[0m \u001b[0;34m(\u001b[0m\u001b[0;36m3\u001b[0m\u001b[0;34m)\u001b[0m\u001b[0;34m\u001b[0m\u001b[0;34m\u001b[0m\u001b[0m\n\u001b[0m",
      "\u001b[0;31mTypeError\u001b[0m: can only concatenate tuple (not \"int\") to tuple"
     ]
    }
   ],
   "source": [
    "(1,2) + (3)"
   ]
  },
  {
   "cell_type": "code",
   "execution_count": 9,
   "metadata": {},
   "outputs": [
    {
     "name": "stdout",
     "output_type": "stream",
     "text": [
      "POLYGON ((0 0, 1 0, 1 2, 0 2, 0 0))\n",
      "2.0\n"
     ]
    },
    {
     "data": {
      "image/svg+xml": [
       "<svg xmlns=\"http://www.w3.org/2000/svg\" xmlns:xlink=\"http://www.w3.org/1999/xlink\" width=\"100.0\" height=\"100.0\" viewBox=\"-0.08 -0.08 1.1600000000000001 2.16\" preserveAspectRatio=\"xMinYMin meet\"><g transform=\"matrix(1,0,0,-1,0,2.0)\"><path fill-rule=\"evenodd\" fill=\"#66cc99\" stroke=\"#555555\" stroke-width=\"0.0432\" opacity=\"0.6\" d=\"M 0.0,0.0 L 1.0,0.0 L 1.0,2.0 L 0.0,2.0 L 0.0,0.0 z\" /></g></svg>"
      ],
      "text/plain": [
       "<shapely.geometry.polygon.Polygon at 0x11def5160>"
      ]
     },
     "metadata": {},
     "output_type": "display_data"
    }
   ],
   "source": [
    "rect = Polygon([(0, 0), (1,0), (1,2), (0,2)])\n",
    "print(rect)\n",
    "print(rect.area)\n",
    "display(rect)"
   ]
  },
  {
   "cell_type": "markdown",
   "metadata": {},
   "source": []
  },
  {
   "cell_type": "code",
   "execution_count": null,
   "metadata": {},
   "outputs": [],
   "source": []
  },
  {
   "cell_type": "code",
   "execution_count": null,
   "metadata": {},
   "outputs": [],
   "source": []
  },
  {
   "cell_type": "code",
   "execution_count": null,
   "metadata": {},
   "outputs": [],
   "source": []
  },
  {
   "cell_type": "code",
   "execution_count": null,
   "metadata": {},
   "outputs": [],
   "source": []
  },
  {
   "cell_type": "code",
   "execution_count": null,
   "metadata": {},
   "outputs": [],
   "source": []
  },
  {
   "cell_type": "markdown",
   "metadata": {},
   "source": [
    "---\n",
    "### GeoPandas"
   ]
  },
  {
   "cell_type": "code",
   "execution_count": null,
   "metadata": {},
   "outputs": [],
   "source": []
  },
  {
   "cell_type": "code",
   "execution_count": null,
   "metadata": {},
   "outputs": [],
   "source": []
  },
  {
   "cell_type": "code",
   "execution_count": null,
   "metadata": {},
   "outputs": [],
   "source": []
  },
  {
   "cell_type": "code",
   "execution_count": null,
   "metadata": {},
   "outputs": [],
   "source": []
  },
  {
   "cell_type": "code",
   "execution_count": null,
   "metadata": {},
   "outputs": [],
   "source": []
  },
  {
   "cell_type": "code",
   "execution_count": null,
   "metadata": {},
   "outputs": [],
   "source": []
  },
  {
   "cell_type": "markdown",
   "metadata": {},
   "source": [
    "---\n",
    "Visualization\n",
    "- mapboxgl\n",
    "- sentinelhub\n",
    "    - [post](https://medium.com/sentinel-hub/upgrading-the-sentinelhub-python-package-2665f9c10df)\n",
    "    - time lapse [demo](https://youtu.be/_YJfAn0c_yE)\n",
    "    - environmental monitoring [post](https://medium.com/sentinel-hub/environmental-monitoring-of-conflicts-using-sentinel-2-61f07d76e27b)\n",
    "    - satellite images + ML using [eo-learn](https://medium.com/sentinel-hub/introducing-eo-learn-ab37f2869f5c)\n",
    "        - another cool timelapse [demo](https://cdn-images-1.medium.com/max/800/1*-dXNrDf0R4Ksb88-kbdXmg.gif)\n",
    "        - web browser [EO Browser](https://www.youtube.com/watch?v=m3pron0C0kE)\n"
   ]
  },
  {
   "cell_type": "code",
   "execution_count": 82,
   "metadata": {},
   "outputs": [
    {
     "name": "stderr",
     "output_type": "stream",
     "text": [
      "/Users/hayley/miniconda3/envs/gis/lib/python3.6/site-packages/IPython/core/display.py:689: UserWarning: Consider using IPython.display.IFrame instead\n",
      "  warnings.warn(\"Consider using IPython.display.IFrame instead\")\n"
     ]
    },
    {
     "data": {
      "text/html": [
       "<iframe id=\"map\", srcdoc=\"<!DOCTYPE html>\n",
       "<html>\n",
       "<head>\n",
       "<title>mapboxgl-jupyter viz</title>\n",
       "<meta charset='UTF-8' />\n",
       "<meta name='viewport'\n",
       "      content='initial-scale=1,maximum-scale=1,user-scalable=no' />\n",
       "<script type='text/javascript'\n",
       "        src='https://api.tiles.mapbox.com/mapbox-gl-js/v0.53.0/mapbox-gl.js'></script>\n",
       "<link type='text/css'\n",
       "      href='https://api.tiles.mapbox.com/mapbox-gl-js/v0.53.0/mapbox-gl.css' \n",
       "      rel='stylesheet' />\n",
       "\n",
       "<style type='text/css'>\n",
       "    body { margin:0; padding:0; }\n",
       "    .map { position: absolute; top:0; bottom:0; width:100%; }\n",
       "    .legend {\n",
       "        background-color: white;\n",
       "        color: #6e6e6e;\n",
       "        border-radius: 3px;\n",
       "        bottom: 10px;\n",
       "        box-shadow: 0 1px 2px rgba(0, 0, 0, 0.10);\n",
       "        font: 12px/20px 'Helvetica Neue', Arial, Helvetica, sans-serif;\n",
       "        padding: 0;\n",
       "        position: absolute;\n",
       "        right: 10px;\n",
       "        z-index: 1;\n",
       "        min-width: 100px;\n",
       "    }\n",
       "   .legend.horizontal {bottom: 10px; text-align: left;}\n",
       "\n",
       "    /* legend header */\n",
       "    .legend .legend-header { border-radius: 3px 3px 0 0; background: white; }\n",
       "    .legend .legend-title {\n",
       "        padding: 6px 12px 6px 12px;\n",
       "        text-shadow: 0 0 2px white;\n",
       "        text-transform: capitalize;\n",
       "        text-align: center;\n",
       "        font-weight: bold !important;\n",
       "        font-size: 14px;\n",
       "        font: 12px/20px 'Helvetica Neue', Arial, Helvetica, sans-serif;\n",
       "        max-width: 160px;\n",
       "    }\n",
       "    .legend-title {padding: 6px 12px 6px 12px; text-shadow: 0 0 2px #FFF; text-transform: capitalize; text-align: center; max-width: 160px; font-size: 0.9em; font-weight: bold;}\n",
       "    .legend.horizontal .legend-title {text-align: left;}\n",
       "\n",
       "    /* legend items */\n",
       "    .legend-content {margin: 6px 12px 6px 12px; overflow: hidden; padding: 0; float: left; list-style: none; font-size: 0.8em;}\n",
       "    .legend.vertical .legend-item {white-space: nowrap;}\n",
       "    .legend-value {display: inline-block; line-height: 18px; vertical-align: top;}\n",
       "    .legend.horizontal ul.legend-content li.legend-item .legend-value,\n",
       "    .legend.horizontal ul.legend-content li.legend-item {display: inline-block; float: left; width: 30px; margin-bottom: 0; text-align: center; height: 30px;}\n",
       "\n",
       "    /* legend key styles */\n",
       "    .legend-key {display: inline-block; height: 10px;}\n",
       "    .legend-key.default, .legend-key.square {border-radius: 0;}\n",
       "    .legend-key.circle {border-radius: 50%;}\n",
       "    .legend-key.rounded-square {border-radius: 20%;}\n",
       "    .legend.vertical .legend-key {width: 10px; margin-right: 5px; margin-left: 1px;}\n",
       "    .legend.horizontal .legend-key {width: 30px; margin-right: 0; margin-top: 1px; float: left;}\n",
       "    .legend.horizontal .legend-key.square, .legend.horizontal .legend-key.rounded-square, .legend.horizontal .legend-key.circle {margin-left: 10px; width: 10px;}\n",
       "    .legend.horizontal .legend-key.line {margin-left: 5px;}\n",
       "    .legend.horizontal .legend-key.line, .legend.vertical .legend-key.line {border-radius: 10%; width: 20px; height: 3px; margin-bottom: 2px;}\n",
       "\n",
       "    /* gradient bar alignment */\n",
       "    .gradient-bar {margin: 6px 12px 6px 12px;}\n",
       "    .legend.horizontal .gradient-bar {width: 88%; height: 10px;}\n",
       "    .legend.vertical .gradient-bar {width: 10px; min-height: 50px; position: absolute; bottom: 4px;}\n",
       "\n",
       "    /* contiguous vertical bars (discrete) */\n",
       "    .legend.vertical.contig .legend-key {height: 15px; width: 10px;}\n",
       "    .legend.vertical.contig li.legend-item {height: 15px;}\n",
       "    .legend.vertical.contig {padding-bottom: 6px;}\n",
       "\n",
       "</style>\n",
       "\n",
       "<style>\n",
       "    .gradient-bar.bordered, .legend-key.bordered { border: solid grey 0.1px; }\n",
       "</style>\n",
       "\n",
       "</head>\n",
       "<body>\n",
       "\n",
       "<div id='map' class='map'></div>\n",
       "\n",
       "<script type='text/javascript'>\n",
       "\n",
       "var legendHeader;\n",
       "\n",
       "function calcColorLegend(myColorStops, title) {\n",
       "\n",
       "    // create legend\n",
       "    var legend = document.createElement('div');\n",
       "    if ('circle' === 'contiguous-bar') {\n",
       "        legend.className = 'legend vertical contig';\n",
       "    }\n",
       "    else {\n",
       "        legend.className = 'legend vertical';\n",
       "    }\n",
       "\n",
       "    legend.id = 'legend';\n",
       "    document.body.appendChild(legend);\n",
       "\n",
       "    // add legend header and content elements\n",
       "    var mytitle = document.createElement('div'),\n",
       "        legendContent = document.createElement('ul');\n",
       "    legendHeader = document.createElement('div');\n",
       "    mytitle.textContent = title;\n",
       "    mytitle.className = 'legend-title'\n",
       "    legendHeader.className = 'legend-header'\n",
       "    legendContent.className = 'legend-content'\n",
       "    legendHeader.appendChild(mytitle);\n",
       "    legend.appendChild(legendHeader);\n",
       "    legend.appendChild(legendContent);\n",
       "\n",
       "    if (false === true) {\n",
       "        var gradientText = 'linear-gradient(to right, ';\n",
       "        var gradient = document.createElement('div');\n",
       "        gradient.className = 'gradient-bar';\n",
       "        legend.appendChild(gradient);\n",
       "    }\n",
       "\n",
       "    // calculate a legend entries on a Mapbox GL Style Spec property function stops array\n",
       "    for (p = 0; p < myColorStops.length; p++) {\n",
       "        if (!!document.getElementById('legend-points-value-' + p)) {\n",
       "            //update the legend if it already exists\n",
       "            document.getElementById('legend-points-value-' + p).textContent = myColorStops[p][0];\n",
       "            document.getElementById('legend-points-id-' + p).style.backgroundColor = myColorStops[p][1];\n",
       "        }\n",
       "        else {\n",
       "            // create the legend if it doesn't yet exist\n",
       "            var item = document.createElement('li');\n",
       "            item.className = 'legend-item';\n",
       "\n",
       "            var key = document.createElement('span');\n",
       "            key.className = 'legend-key circle';\n",
       "            key.id = 'legend-points-id-' + p;\n",
       "            key.style.backgroundColor = myColorStops[p][1];   \n",
       "\n",
       "            var value = document.createElement('span');\n",
       "            value.className = 'legend-value';\n",
       "            value.id = 'legend-points-value-' + p;\n",
       "\n",
       "            item.appendChild(key);\n",
       "            item.appendChild(value);\n",
       "            legendContent.appendChild(item);\n",
       "            \n",
       "            data = document.getElementById('legend-points-value-' + p)\n",
       "\n",
       "            // round number values in legend if precision defined\n",
       "            if ((typeof(myColorStops[p][0]) == 'number') && (typeof(null) == 'number')) {\n",
       "                data.textContent = myColorStops[p][0].toFixed(null);\n",
       "            }\n",
       "            else {\n",
       "                data.textContent = myColorStops[p][0];\n",
       "            }\n",
       "\n",
       "            // add color stop to gradient list\n",
       "            if (false === true) {\n",
       "                if (p < myColorStops.length - 1) {\n",
       "                    gradientText = gradientText + myColorStops[p][1] + ', ';\n",
       "                }\n",
       "                else {\n",
       "                    gradientText = gradientText + myColorStops[p][1] + ')';\n",
       "                }\n",
       "                if ('vertical' === 'vertical') {\n",
       "                    gradientText = gradientText.replace('to right', 'to bottom');\n",
       "                }\n",
       "            }\n",
       "        }\n",
       "    }\n",
       "\n",
       "    if (false === true) {\n",
       "        // convert to gradient scale appearance\n",
       "        gradient.style.background = gradientText;\n",
       "\n",
       "        // hide legend keys generated above\n",
       "        var keys = document.getElementsByClassName('legend-key');\n",
       "        for (var i=0; i < keys.length; i++) {\n",
       "            keys[i].style.visibility = 'hidden';\n",
       "        }\n",
       "\n",
       "        if ('vertical' === 'vertical') {\n",
       "            gradient.style.height = (legendContent.offsetHeight - 6) + 'px';\n",
       "        }\n",
       "    }\n",
       "\n",
       "    // add class for styling bordered legend keys\n",
       "    if (true) {\n",
       "        var keys = document.getElementsByClassName('legend-key');\n",
       "        for (var i=0; i < keys.length; i++) {\n",
       "            if (keys[i]) {\n",
       "                keys[i].classList.add('bordered');\n",
       "            }\n",
       "        }\n",
       "        var gradientBars = document.getElementsByClassName('gradient-bar');\n",
       "        for (var i=0; i < keys.length; i++) {\n",
       "            if (gradientBars[i]) {\n",
       "                gradientBars[i].classList.add('bordered');\n",
       "            }\n",
       "        }\n",
       "    }\n",
       "\n",
       "    // update right-margin for compact Mapbox attribution based on calculated legend width\n",
       "    var attribMargin = legend.offsetWidth + 15;\n",
       "    document.getElementsByClassName('mapboxgl-ctrl-attrib')[0].style.marginRight =  attribMargin.toString() + 'px';\n",
       "\n",
       "}\n",
       "\n",
       "\n",
       "function generateInterpolateExpression(propertyValue, stops) {\n",
       "    var expression;\n",
       "    if (propertyValue == 'zoom') {\n",
       "        expression = ['interpolate', ['exponential', 1.2], ['zoom']]\n",
       "    }\n",
       "    else if (propertyValue == 'heatmap-density') {\n",
       "        expression = ['interpolate', ['linear'], ['heatmap-density']]\n",
       "    }\n",
       "    else {\n",
       "        expression = ['interpolate', ['linear'], ['get', propertyValue]]\n",
       "    }\n",
       "\n",
       "    for (var i=0; i<stops.length; i++) {\n",
       "        expression.push(stops[i][0], stops[i][1])\n",
       "    }\n",
       "    return expression\n",
       "}\n",
       "\n",
       "\n",
       "function generateMatchExpression(propertyValue, stops, defaultValue) {\n",
       "    var expression;\n",
       "    expression = ['match', ['get', propertyValue]]\n",
       "    for (var i=0; i<stops.length; i++) {\n",
       "        expression.push(stops[i][0], stops[i][1])\n",
       "    }\n",
       "    expression.push(defaultValue)\n",
       "    \n",
       "    return expression\n",
       "}\n",
       "\n",
       "\n",
       "function generatePropertyExpression(expressionType, propertyValue, stops, defaultValue) {\n",
       "    var expression;\n",
       "    if (expressionType == 'match') {\n",
       "        expression = generateMatchExpression(propertyValue, stops, defaultValue)\n",
       "    }\n",
       "    else if (propertyValue == 'identity') {\n",
       "        expression = ['get', propertyValue]\n",
       "    }\n",
       "    else {\n",
       "        expression = generateInterpolateExpression(propertyValue, stops)\n",
       "    }\n",
       "\n",
       "    return expression\n",
       "}\n",
       "\n",
       "</script>\n",
       "\n",
       "<!-- main map creation code, extended by mapboxgl/templates/circle.html -->\n",
       "<script type='text/javascript'>\n",
       "\n",
       "    mapboxgl.accessToken = '';\n",
       "\n",
       "    var transformRequest = function(url, resourceType) {\n",
       "        const isMapboxRequest = url.slice(8, 22) === 'api.mapbox.com' ||\n",
       "          url.slice(10, 26) === 'tiles.mapbox.com';\n",
       "      \n",
       "        return {\n",
       "          url: isMapboxRequest ? url.replace('?', '?pluginName=PythonMapboxgl&') : url\n",
       "        }\n",
       "    };\n",
       "\n",
       "    var map = new mapboxgl.Map({\n",
       "        container: 'map',\n",
       "        attributionControl: false,\n",
       "        style: 'mapbox://styles/mapbox/light-v10?optimize=true',\n",
       "        center: [-95, 40],\n",
       "        zoom: 3,\n",
       "        pitch: 0,\n",
       "        bearing: 0,\n",
       "        scrollZoom: true,\n",
       "        touchZoom: true,\n",
       "        doubleClickZoom: true,\n",
       "        boxZoom: true,\n",
       "        preserveDrawingBuffer: false,\n",
       "        transformRequest: transformRequest\n",
       "    });\n",
       "\n",
       "    \n",
       "    \n",
       "        map.addControl(new mapboxgl.AttributionControl({ compact: true }));\n",
       "\n",
       "    \n",
       "\n",
       "    \n",
       "\n",
       "        map.addControl(new mapboxgl.NavigationControl());\n",
       "\n",
       "    \n",
       "\n",
       "    \n",
       "\n",
       "    \n",
       "        \n",
       "            calcColorLegend([[0, 'rgb(255,255,204)'], [10, 'rgb(161,218,180)'], [100, 'rgb(65,182,196)'], [1000, 'rgb(44,127,184)'], [10000, 'rgb(37,52,148)']] , 'Avg Medicare Payments');\n",
       "        \n",
       "    \n",
       "        \n",
       "\n",
       "\n",
       "    \n",
       "\n",
       "    map.on('style.load', function() {\n",
       "        \n",
       "        \n",
       "\n",
       "        map.addSource('data', {\n",
       "            'type': 'geojson',\n",
       "            'data': 'points.geojson',\n",
       "            'buffer': 1,\n",
       "            'maxzoom': 14,\n",
       "            'generateId': true\n",
       "        });\n",
       "\n",
       "        map.addLayer({\n",
       "            'id': 'label',\n",
       "            'source': 'data',\n",
       "            'type': 'symbol',\n",
       "            'maxzoom': 24,\n",
       "            'minzoom': 0,\n",
       "            'layout': {\n",
       "                \n",
       "                'text-size' : generateInterpolateExpression('zoom', [[0, 8],[22, 3* 8]] ),\n",
       "                'text-offset': [0,-1]\n",
       "            },\n",
       "            'paint': {\n",
       "                'text-halo-color': 'white',\n",
       "                'text-halo-width': generatePropertyExpression('interpolate', 'zoom', [[0,1], [18,5* 1]]),\n",
       "                'text-color': ['case',\n",
       "                    ['boolean', ['feature-state', 'hover'], false], \n",
       "                    'black', \n",
       "                    '#131516']\n",
       "            }\n",
       "        }, 'waterway-label' )\n",
       "        \n",
       "        map.addLayer({\n",
       "            'id': 'circle',\n",
       "            'source': 'data',\n",
       "            'type': 'circle',\n",
       "            'maxzoom': 24,\n",
       "            'minzoom': 0,\n",
       "            'paint': {\n",
       "                \n",
       "                    'circle-color': ['case',\n",
       "                        ['boolean', ['feature-state', 'hover'], false], \n",
       "                        'black',\n",
       "                        generatePropertyExpression('interpolate', 'Avg Medicare Payments', [[0, 'rgb(255,255,204)'], [10, 'rgb(161,218,180)'], [100, 'rgb(65,182,196)'], [1000, 'rgb(44,127,184)'], [10000, 'rgb(37,52,148)']], 'grey' )],\n",
       "                    \n",
       "                'circle-radius' : generatePropertyExpression('interpolate', 'zoom', [[0,1], [22,10 * 1]]),\n",
       "                'circle-stroke-color': ['case',\n",
       "                    ['boolean', ['feature-state', 'hover'], false], \n",
       "                    'black', \n",
       "                    'grey'],\n",
       "                'circle-stroke-width': generatePropertyExpression('interpolate', 'zoom', [[0,0.1], [18,5* 0.1]]),\n",
       "                'circle-opacity' : 1,\n",
       "                'circle-stroke-opacity' : 1\n",
       "            }\n",
       "        }, 'label');\n",
       "        \n",
       "        \n",
       "\n",
       "        // Popups\n",
       "        \n",
       "            var popupAction = 'mousemove',\n",
       "                popupSettings =  {\n",
       "                    closeButton: false,\n",
       "                    closeOnClick: false\n",
       "                };\n",
       "        \n",
       "\n",
       "        // Create a popup\n",
       "        var popup = new mapboxgl.Popup(popupSettings);\n",
       "\n",
       "        \n",
       "\n",
       "        var hoveredStateId = 0;\n",
       "        \n",
       "        // Show the popup on mouseover\n",
       "        map.on(popupAction, function(e) {\n",
       "            \n",
       "            var features = map.queryRenderedFeatures(e.point, {layers: ['circle', 'label'] });\n",
       "\n",
       "            if (features.length > 0) {\n",
       "                map.getCanvas().style.cursor = 'pointer';\n",
       "                var f = features[0];\n",
       "                newHoveredStateId = f.id;\n",
       "                if (newHoveredStateId != hoveredStateId) {\n",
       "                    map.removeFeatureState({source: 'data', id: hoveredStateId});\n",
       "                    hoveredStateId = newHoveredStateId;\n",
       "                }\n",
       "                map.setFeatureState({source: 'data', id: hoveredStateId}, { hover: true});\n",
       "                let popup_html = '<div><li><b>Location</b>: ' + f.geometry.coordinates[0].toPrecision(6) + \n",
       "                    ', ' + f.geometry.coordinates[1].toPrecision(6) + '</li>';\n",
       "\n",
       "                for (key in f.properties) {\n",
       "                    popup_html += '<li><b> ' + key + '</b>: ' + f.properties[key] + ' </li>'\n",
       "                }\n",
       "\n",
       "                popup_html += '</div>'\n",
       "                popup.setLngLat(e.lngLat)\n",
       "                    .setHTML(popup_html)\n",
       "                    .addTo(map);\n",
       "            }\n",
       "            else {\n",
       "                map.getCanvas().style.cursor = '';\n",
       "                popup.remove();\n",
       "                map.removeFeatureState({source: 'data', id: hoveredStateId});\n",
       "            }\n",
       "        });\n",
       "\n",
       "        \n",
       "        \n",
       "        // Fly to on click\n",
       "        map.on('click', 'circle', function(e) {\n",
       "            map.easeTo({\n",
       "                center: e.features[0].geometry.coordinates\n",
       "            });\n",
       "        });\n",
       "    });\n",
       "\n",
       "\n",
       "\n",
       "</script>\n",
       "\n",
       "<!-- add capability to export map or legend to image file -->\n",
       "\n",
       "\n",
       "</body>\n",
       "</html>\" style=\"width: 100%; height: 400px;\"></iframe>"
      ],
      "text/plain": [
       "<IPython.core.display.HTML object>"
      ]
     },
     "metadata": {},
     "output_type": "display_data"
    }
   ],
   "source": [
    "import os\n",
    "\n",
    "import pandas as pd\n",
    "\n",
    "from mapboxgl.utils import create_color_stops, df_to_geojson\n",
    "from mapboxgl.viz import CircleViz\n",
    "\n",
    "\n",
    "# Load data from sample csv\n",
    "data_url = 'https://raw.githubusercontent.com/mapbox/mapboxgl-jupyter/master/examples/data/points.csv'\n",
    "df = pd.read_csv(data_url)\n",
    "\n",
    "# Must be a public token, starting with `pk`\n",
    "token = os.getenv('MAPBOX_ACCESS_TOKEN')\n",
    "\n",
    "# Create a geojson file export from a Pandas dataframe\n",
    "df_to_geojson(df, filename='points.geojson',\n",
    "              properties=['Avg Medicare Payments', 'Avg Covered Charges', 'date'],\n",
    "              lat='lat', lon='lon', precision=3)\n",
    "\n",
    "# Generate data breaks and color stops from colorBrewer\n",
    "color_breaks = [0,10,100,1000,10000]\n",
    "color_stops = create_color_stops(color_breaks, colors='YlGnBu')\n",
    "\n",
    "# Create the viz from the dataframe\n",
    "viz = CircleViz('points.geojson',\n",
    "                access_token=token,\n",
    "                height='400px',\n",
    "                color_property = \"Avg Medicare Payments\",\n",
    "                color_stops = color_stops,\n",
    "                center = (-95, 40),\n",
    "                zoom = 3,\n",
    "                below_layer = 'waterway-label'\n",
    "              )\n",
    "viz.show()"
   ]
  },
  {
   "cell_type": "code",
   "execution_count": null,
   "metadata": {},
   "outputs": [],
   "source": []
  }
 ],
 "metadata": {
  "kernelspec": {
   "display_name": "Python [conda env:test]",
   "language": "python",
   "name": "conda-env-test-py"
  },
  "language_info": {
   "codemirror_mode": {
    "name": "ipython",
    "version": 3
   },
   "file_extension": ".py",
   "mimetype": "text/x-python",
   "name": "python",
   "nbconvert_exporter": "python",
   "pygments_lexer": "ipython3",
   "version": "3.6.7"
  }
 },
 "nbformat": 4,
 "nbformat_minor": 2
}
